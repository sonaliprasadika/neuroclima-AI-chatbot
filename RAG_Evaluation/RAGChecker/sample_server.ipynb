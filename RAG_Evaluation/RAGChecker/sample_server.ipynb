{
 "cells": [
  {
   "cell_type": "code",
   "execution_count": 3,
   "id": "9da565dd-2596-4f63-a704-1fa1b2fe96dd",
   "metadata": {},
   "outputs": [],
   "source": [
    "from flask import Flask, jsonify, request\n",
    "\n",
    "app = Flask(__name__)\n",
    "\n",
    "# Mock generate endpoint\n",
    "@app.route('/generate', methods=['POST'])\n",
    "def generate():\n",
    "    # Sample data: returning a mock generated response based on the query\n",
    "    data = request.get_json()\n",
    "    query = data.get('query', '')\n",
    "\n",
    "    # Mocked responses for different queries\n",
    "    if query == \"What's the longest river in the world?\":\n",
    "        return jsonify({\"generated_response\": \"The longest river in the world is the Nile, stretching approximately 6,650 kilometers (4,130 miles) through northeastern Africa.\"})\n",
    "    elif query == \"What does the democratic republic of Congo flag represent?\":\n",
    "        return jsonify({\"generated_response\": \"The flag of the Democratic Republic of the Congo represents blue for peace, red for the blood of the country's martyrs, yellow for the country's wealth, and a star for a radiant future for the country.\"})\n",
    "    else:\n",
    "        return jsonify({\"generated_response\": \"This is a mock response for: \" + query})"
   ]
  },
  {
   "cell_type": "code",
   "execution_count": null,
   "id": "124ba0c0-155f-4a7b-9698-ba328282f538",
   "metadata": {},
   "outputs": [],
   "source": [
    "if __name__ == '__main__':\n",
    "    app.run(host='127.0.0.1', port=8000, debug=True)"
   ]
  }
 ],
 "metadata": {
  "kernelspec": {
   "display_name": "Python 3 (ipykernel)",
   "language": "python",
   "name": "python3"
  },
  "language_info": {
   "codemirror_mode": {
    "name": "ipython",
    "version": 3
   },
   "file_extension": ".py",
   "mimetype": "text/x-python",
   "name": "python",
   "nbconvert_exporter": "python",
   "pygments_lexer": "ipython3",
   "version": "3.12.3"
  }
 },
 "nbformat": 4,
 "nbformat_minor": 5
}
