{
 "cells": [
  {
   "cell_type": "code",
   "execution_count": 2,
   "id": "2f987009-3f43-40b7-abae-4f4f1ee4540b",
   "metadata": {
    "scrolled": true
   },
   "outputs": [
    {
     "name": "stdout",
     "output_type": "stream",
     "text": [
      "Collecting ragas\n",
      "  Downloading ragas-0.2.9-py3-none-any.whl.metadata (9.2 kB)\n",
      "Requirement already satisfied: numpy in /home/ubuntu/myenv/lib/python3.12/site-packages (from ragas) (1.26.4)\n",
      "Requirement already satisfied: datasets in /home/ubuntu/myenv/lib/python3.12/site-packages (from ragas) (3.2.0)\n",
      "Requirement already satisfied: tiktoken in /home/ubuntu/myenv/lib/python3.12/site-packages (from ragas) (0.8.0)\n",
      "Requirement already satisfied: langchain in /home/ubuntu/myenv/lib/python3.12/site-packages (from ragas) (0.3.13)\n",
      "Requirement already satisfied: langchain-core in /home/ubuntu/myenv/lib/python3.12/site-packages (from ragas) (0.3.28)\n",
      "Requirement already satisfied: langchain-community in /home/ubuntu/myenv/lib/python3.12/site-packages (from ragas) (0.3.13)\n",
      "Requirement already satisfied: langchain_openai in /home/ubuntu/myenv/lib/python3.12/site-packages (from ragas) (0.2.14)\n",
      "Requirement already satisfied: nest-asyncio in /home/ubuntu/myenv/lib/python3.12/site-packages (from ragas) (1.6.0)\n",
      "Collecting appdirs (from ragas)\n",
      "  Downloading appdirs-1.4.4-py2.py3-none-any.whl.metadata (9.0 kB)\n",
      "Requirement already satisfied: pydantic>=2 in /home/ubuntu/myenv/lib/python3.12/site-packages (from ragas) (2.10.4)\n",
      "Requirement already satisfied: openai>1 in /home/ubuntu/myenv/lib/python3.12/site-packages (from ragas) (1.58.1)\n",
      "Collecting pysbd>=0.3.4 (from ragas)\n",
      "  Downloading pysbd-0.3.4-py3-none-any.whl.metadata (6.1 kB)\n",
      "Collecting diskcache>=5.6.3 (from ragas)\n",
      "  Downloading diskcache-5.6.3-py3-none-any.whl.metadata (20 kB)\n",
      "Requirement already satisfied: anyio<5,>=3.5.0 in /home/ubuntu/myenv/lib/python3.12/site-packages (from openai>1->ragas) (4.7.0)\n",
      "Requirement already satisfied: distro<2,>=1.7.0 in /home/ubuntu/myenv/lib/python3.12/site-packages (from openai>1->ragas) (1.9.0)\n",
      "Requirement already satisfied: httpx<1,>=0.23.0 in /home/ubuntu/myenv/lib/python3.12/site-packages (from openai>1->ragas) (0.28.1)\n",
      "Requirement already satisfied: jiter<1,>=0.4.0 in /home/ubuntu/myenv/lib/python3.12/site-packages (from openai>1->ragas) (0.8.2)\n",
      "Requirement already satisfied: sniffio in /home/ubuntu/myenv/lib/python3.12/site-packages (from openai>1->ragas) (1.3.1)\n",
      "Requirement already satisfied: tqdm>4 in /home/ubuntu/myenv/lib/python3.12/site-packages (from openai>1->ragas) (4.67.1)\n",
      "Requirement already satisfied: typing-extensions<5,>=4.11 in /home/ubuntu/myenv/lib/python3.12/site-packages (from openai>1->ragas) (4.12.2)\n",
      "Requirement already satisfied: annotated-types>=0.6.0 in /home/ubuntu/myenv/lib/python3.12/site-packages (from pydantic>=2->ragas) (0.7.0)\n",
      "Requirement already satisfied: pydantic-core==2.27.2 in /home/ubuntu/myenv/lib/python3.12/site-packages (from pydantic>=2->ragas) (2.27.2)\n",
      "Requirement already satisfied: filelock in /home/ubuntu/myenv/lib/python3.12/site-packages (from datasets->ragas) (3.16.1)\n",
      "Requirement already satisfied: pyarrow>=15.0.0 in /home/ubuntu/myenv/lib/python3.12/site-packages (from datasets->ragas) (18.1.0)\n",
      "Requirement already satisfied: dill<0.3.9,>=0.3.0 in /home/ubuntu/myenv/lib/python3.12/site-packages (from datasets->ragas) (0.3.8)\n",
      "Requirement already satisfied: pandas in /home/ubuntu/myenv/lib/python3.12/site-packages (from datasets->ragas) (2.2.3)\n",
      "Requirement already satisfied: requests>=2.32.2 in /home/ubuntu/myenv/lib/python3.12/site-packages (from datasets->ragas) (2.32.3)\n",
      "Requirement already satisfied: xxhash in /home/ubuntu/myenv/lib/python3.12/site-packages (from datasets->ragas) (3.5.0)\n",
      "Requirement already satisfied: multiprocess<0.70.17 in /home/ubuntu/myenv/lib/python3.12/site-packages (from datasets->ragas) (0.70.16)\n",
      "Requirement already satisfied: fsspec<=2024.9.0,>=2023.1.0 in /home/ubuntu/myenv/lib/python3.12/site-packages (from fsspec[http]<=2024.9.0,>=2023.1.0->datasets->ragas) (2024.9.0)\n",
      "Requirement already satisfied: aiohttp in /home/ubuntu/myenv/lib/python3.12/site-packages (from datasets->ragas) (3.11.11)\n",
      "Requirement already satisfied: huggingface-hub>=0.23.0 in /home/ubuntu/myenv/lib/python3.12/site-packages (from datasets->ragas) (0.27.0)\n",
      "Requirement already satisfied: packaging in /home/ubuntu/myenv/lib/python3.12/site-packages (from datasets->ragas) (24.2)\n",
      "Requirement already satisfied: pyyaml>=5.1 in /home/ubuntu/myenv/lib/python3.12/site-packages (from datasets->ragas) (6.0.2)\n",
      "Requirement already satisfied: SQLAlchemy<3,>=1.4 in /home/ubuntu/myenv/lib/python3.12/site-packages (from langchain->ragas) (2.0.36)\n",
      "Requirement already satisfied: langchain-text-splitters<0.4.0,>=0.3.3 in /home/ubuntu/myenv/lib/python3.12/site-packages (from langchain->ragas) (0.3.4)\n",
      "Requirement already satisfied: langsmith<0.3,>=0.1.17 in /home/ubuntu/myenv/lib/python3.12/site-packages (from langchain->ragas) (0.2.6)\n",
      "Requirement already satisfied: tenacity!=8.4.0,<10,>=8.1.0 in /home/ubuntu/myenv/lib/python3.12/site-packages (from langchain->ragas) (9.0.0)\n",
      "Requirement already satisfied: jsonpatch<2.0,>=1.33 in /home/ubuntu/myenv/lib/python3.12/site-packages (from langchain-core->ragas) (1.33)\n",
      "Requirement already satisfied: dataclasses-json<0.7,>=0.5.7 in /home/ubuntu/myenv/lib/python3.12/site-packages (from langchain-community->ragas) (0.6.7)\n",
      "Requirement already satisfied: httpx-sse<0.5.0,>=0.4.0 in /home/ubuntu/myenv/lib/python3.12/site-packages (from langchain-community->ragas) (0.4.0)\n",
      "Requirement already satisfied: pydantic-settings<3.0.0,>=2.4.0 in /home/ubuntu/myenv/lib/python3.12/site-packages (from langchain-community->ragas) (2.7.0)\n",
      "Requirement already satisfied: regex>=2022.1.18 in /home/ubuntu/myenv/lib/python3.12/site-packages (from tiktoken->ragas) (2024.11.6)\n",
      "Requirement already satisfied: aiohappyeyeballs>=2.3.0 in /home/ubuntu/myenv/lib/python3.12/site-packages (from aiohttp->datasets->ragas) (2.4.4)\n",
      "Requirement already satisfied: aiosignal>=1.1.2 in /home/ubuntu/myenv/lib/python3.12/site-packages (from aiohttp->datasets->ragas) (1.3.2)\n",
      "Requirement already satisfied: attrs>=17.3.0 in /home/ubuntu/myenv/lib/python3.12/site-packages (from aiohttp->datasets->ragas) (24.3.0)\n",
      "Requirement already satisfied: frozenlist>=1.1.1 in /home/ubuntu/myenv/lib/python3.12/site-packages (from aiohttp->datasets->ragas) (1.5.0)\n",
      "Requirement already satisfied: multidict<7.0,>=4.5 in /home/ubuntu/myenv/lib/python3.12/site-packages (from aiohttp->datasets->ragas) (6.1.0)\n",
      "Requirement already satisfied: propcache>=0.2.0 in /home/ubuntu/myenv/lib/python3.12/site-packages (from aiohttp->datasets->ragas) (0.2.1)\n",
      "Requirement already satisfied: yarl<2.0,>=1.17.0 in /home/ubuntu/myenv/lib/python3.12/site-packages (from aiohttp->datasets->ragas) (1.18.3)\n",
      "Requirement already satisfied: idna>=2.8 in /home/ubuntu/myenv/lib/python3.12/site-packages (from anyio<5,>=3.5.0->openai>1->ragas) (3.10)\n",
      "Requirement already satisfied: marshmallow<4.0.0,>=3.18.0 in /home/ubuntu/myenv/lib/python3.12/site-packages (from dataclasses-json<0.7,>=0.5.7->langchain-community->ragas) (3.23.2)\n",
      "Requirement already satisfied: typing-inspect<1,>=0.4.0 in /home/ubuntu/myenv/lib/python3.12/site-packages (from dataclasses-json<0.7,>=0.5.7->langchain-community->ragas) (0.9.0)\n",
      "Requirement already satisfied: certifi in /home/ubuntu/myenv/lib/python3.12/site-packages (from httpx<1,>=0.23.0->openai>1->ragas) (2024.12.14)\n",
      "Requirement already satisfied: httpcore==1.* in /home/ubuntu/myenv/lib/python3.12/site-packages (from httpx<1,>=0.23.0->openai>1->ragas) (1.0.7)\n",
      "Requirement already satisfied: h11<0.15,>=0.13 in /home/ubuntu/myenv/lib/python3.12/site-packages (from httpcore==1.*->httpx<1,>=0.23.0->openai>1->ragas) (0.14.0)\n",
      "Requirement already satisfied: jsonpointer>=1.9 in /home/ubuntu/myenv/lib/python3.12/site-packages (from jsonpatch<2.0,>=1.33->langchain-core->ragas) (3.0.0)\n",
      "Requirement already satisfied: orjson<4.0.0,>=3.9.14 in /home/ubuntu/myenv/lib/python3.12/site-packages (from langsmith<0.3,>=0.1.17->langchain->ragas) (3.10.12)\n",
      "Requirement already satisfied: requests-toolbelt<2.0.0,>=1.0.0 in /home/ubuntu/myenv/lib/python3.12/site-packages (from langsmith<0.3,>=0.1.17->langchain->ragas) (1.0.0)\n",
      "Requirement already satisfied: python-dotenv>=0.21.0 in /home/ubuntu/myenv/lib/python3.12/site-packages (from pydantic-settings<3.0.0,>=2.4.0->langchain-community->ragas) (1.0.1)\n",
      "Requirement already satisfied: charset-normalizer<4,>=2 in /home/ubuntu/myenv/lib/python3.12/site-packages (from requests>=2.32.2->datasets->ragas) (3.4.1)\n",
      "Requirement already satisfied: urllib3<3,>=1.21.1 in /home/ubuntu/myenv/lib/python3.12/site-packages (from requests>=2.32.2->datasets->ragas) (2.3.0)\n",
      "Requirement already satisfied: greenlet!=0.4.17 in /home/ubuntu/myenv/lib/python3.12/site-packages (from SQLAlchemy<3,>=1.4->langchain->ragas) (3.1.1)\n",
      "Requirement already satisfied: python-dateutil>=2.8.2 in /home/ubuntu/myenv/lib/python3.12/site-packages (from pandas->datasets->ragas) (2.9.0.post0)\n",
      "Requirement already satisfied: pytz>=2020.1 in /home/ubuntu/myenv/lib/python3.12/site-packages (from pandas->datasets->ragas) (2024.2)\n",
      "Requirement already satisfied: tzdata>=2022.7 in /home/ubuntu/myenv/lib/python3.12/site-packages (from pandas->datasets->ragas) (2024.2)\n",
      "Requirement already satisfied: six>=1.5 in /home/ubuntu/myenv/lib/python3.12/site-packages (from python-dateutil>=2.8.2->pandas->datasets->ragas) (1.17.0)\n",
      "Requirement already satisfied: mypy-extensions>=0.3.0 in /home/ubuntu/myenv/lib/python3.12/site-packages (from typing-inspect<1,>=0.4.0->dataclasses-json<0.7,>=0.5.7->langchain-community->ragas) (1.0.0)\n",
      "Downloading ragas-0.2.9-py3-none-any.whl (175 kB)\n",
      "\u001b[2K   \u001b[38;2;114;156;31m━━━━━━━━━━━━━━━━━━━━━━━━━━━━━━━━━━━━━━━━\u001b[0m \u001b[32m176.0/176.0 kB\u001b[0m \u001b[31m2.8 MB/s\u001b[0m eta \u001b[36m0:00:00\u001b[0mm eta \u001b[36m0:00:01\u001b[0m\n",
      "\u001b[?25hDownloading diskcache-5.6.3-py3-none-any.whl (45 kB)\n",
      "\u001b[2K   \u001b[38;2;114;156;31m━━━━━━━━━━━━━━━━━━━━━━━━━━━━━━━━━━━━━━━━\u001b[0m \u001b[32m45.5/45.5 kB\u001b[0m \u001b[31m1.4 MB/s\u001b[0m eta \u001b[36m0:00:00\u001b[0m\n",
      "\u001b[?25hDownloading pysbd-0.3.4-py3-none-any.whl (71 kB)\n",
      "\u001b[2K   \u001b[38;2;114;156;31m━━━━━━━━━━━━━━━━━━━━━━━━━━━━━━━━━━━━━━━━\u001b[0m \u001b[32m71.1/71.1 kB\u001b[0m \u001b[31m2.4 MB/s\u001b[0m eta \u001b[36m0:00:00\u001b[0m\n",
      "\u001b[?25hDownloading appdirs-1.4.4-py2.py3-none-any.whl (9.6 kB)\n",
      "Installing collected packages: appdirs, pysbd, diskcache, ragas\n",
      "Successfully installed appdirs-1.4.4 diskcache-5.6.3 pysbd-0.3.4 ragas-0.2.9\n"
     ]
    }
   ],
   "source": [
    "!pip3 install ragas"
   ]
  },
  {
   "cell_type": "code",
   "execution_count": 5,
   "id": "3b19e19e-47fc-4aae-aa70-7ad8493f0456",
   "metadata": {},
   "outputs": [],
   "source": [
    "from ragas import evaluate\n",
    "from datasets import Dataset\n",
    "import openai\n",
    "import pandas as pd\n",
    "import os"
   ]
  },
  {
   "cell_type": "code",
   "execution_count": 6,
   "id": "df625545-d991-49da-b70c-382d31e79500",
   "metadata": {},
   "outputs": [],
   "source": [
    "os.environ[\"OPENAI_API_KEY\"] =  \"\""
   ]
  },
  {
   "cell_type": "code",
   "execution_count": 7,
   "id": "fc711ffb-b335-4530-923a-1cd9f413978c",
   "metadata": {},
   "outputs": [
    {
     "name": "stdout",
     "output_type": "stream",
     "text": [
      "                                               input  \\\n",
      "0       What is the National Hydrogen Strategy 2050?   \n",
      "1                    What is the Environmental Code?   \n",
      "2  What are the targets of the Energy Policy Fram...   \n",
      "3                       What is the Electricity Act?   \n",
      "4  What is the Vision 2030 strategy for Saudi Ara...   \n",
      "\n",
      "                                     expected_output  \\\n",
      "0  The National Hydrogen Strategy 2050 aims to su...   \n",
      "1  The Environmental Code regulates activities im...   \n",
      "2  The Energy Policy Framework aims to reduce ene...   \n",
      "3  The Electricity Act sets regulations on energy...   \n",
      "4  Saudi Arabia aims to increase the share of nat...   \n",
      "\n",
      "                                   retrieval_context  \\\n",
      "0  ten points that the government will place effo...   \n",
      "1  a number of policies affecting road traffic ha...   \n",
      "2  the UK's 2nd Energy Efficiency Action Plan (EE...   \n",
      "3  a number of policies affecting road traffic ha...   \n",
      "4  ten points that the government will place effo...   \n",
      "\n",
      "                                       actual_output  \n",
      "0  The National Hydrogen Strategy 2050 is a long-...  \n",
      "1  The Environmental Code is a legal framework de...  \n",
      "2  The targets of the Energy Policy Framework (PO...  \n",
      "3  The Electricity Act, specifically the version ...  \n",
      "4  The Vision 2030 strategy for Saudi Arabia's en...  \n"
     ]
    }
   ],
   "source": [
    "# Load the data from the CSV file\n",
    "df = pd.read_csv('RAG_evaluation.csv', encoding='latin1')\n",
    "print(df.head())\n",
    "# Extract the relevant columns\n",
    "inputs = df['input'].tolist()\n",
    "actual_outputs = df['actual_output'].tolist()\n",
    "expected_outputs = df['expected_output'].tolist()\n",
    "retrieval_context = df['retrieval_context'].apply(lambda x: x.split(';') if isinstance(x, str) else [x]).tolist()"
   ]
  },
  {
   "cell_type": "code",
   "execution_count": 8,
   "id": "6b673efa-7713-4609-bfef-379d69a83243",
   "metadata": {},
   "outputs": [
    {
     "name": "stderr",
     "output_type": "stream",
     "text": [
      "Evaluating: 100%|██████████████████████████████████████████████████████████████████████████████████████| 328/328 [02:22<00:00,  2.31it/s]\n"
     ]
    },
    {
     "name": "stdout",
     "output_type": "stream",
     "text": [
      "{'answer_relevancy': 0.9363, 'context_precision': 0.2744, 'faithfulness': 0.2641, 'context_recall': 0.2520}\n"
     ]
    }
   ],
   "source": [
    "# Convert the data into the format required by the Dataset object\n",
    "eval_dataset = Dataset.from_dict({\n",
    "    \"question\": inputs,\n",
    "    \"contexts\": retrieval_context,\n",
    "    \"answer\": actual_outputs,\n",
    "    \"ground_truths\": retrieval_context,  # Assuming retrieval_context serves as ground truths\n",
    "    \"reference\": expected_outputs\n",
    "})\n",
    "\n",
    "# Run the evaluation\n",
    "results = evaluate(eval_dataset)\n",
    "print(results)"
   ]
  },
  {
   "cell_type": "code",
   "execution_count": null,
   "id": "1df06629-d7c6-452a-b369-95c6c03284a5",
   "metadata": {},
   "outputs": [],
   "source": []
  }
 ],
 "metadata": {
  "kernelspec": {
   "display_name": "Python 3 (ipykernel)",
   "language": "python",
   "name": "python3"
  },
  "language_info": {
   "codemirror_mode": {
    "name": "ipython",
    "version": 3
   },
   "file_extension": ".py",
   "mimetype": "text/x-python",
   "name": "python",
   "nbconvert_exporter": "python",
   "pygments_lexer": "ipython3",
   "version": "3.12.3"
  }
 },
 "nbformat": 4,
 "nbformat_minor": 5
}
