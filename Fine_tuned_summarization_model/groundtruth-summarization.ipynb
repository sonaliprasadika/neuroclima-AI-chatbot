{
 "cells": [
  {
   "cell_type": "code",
   "execution_count": 4,
   "id": "f265d2c5-d13e-4786-b19b-82e9094fc8b9",
   "metadata": {
    "scrolled": true
   },
   "outputs": [
    {
     "name": "stdout",
     "output_type": "stream",
     "text": [
      "Requirement already satisfied: openai in /home/ubuntu/myenv/lib/python3.10/site-packages (1.58.1)\n",
      "Requirement already satisfied: jiter<1,>=0.4.0 in /home/ubuntu/myenv/lib/python3.10/site-packages (from openai) (0.8.2)\n",
      "Requirement already satisfied: sniffio in /home/ubuntu/myenv/lib/python3.10/site-packages (from openai) (1.3.1)\n",
      "Requirement already satisfied: typing-extensions<5,>=4.11 in /home/ubuntu/myenv/lib/python3.10/site-packages (from openai) (4.12.2)\n",
      "Requirement already satisfied: pydantic<3,>=1.9.0 in /home/ubuntu/myenv/lib/python3.10/site-packages (from openai) (2.10.4)\n",
      "Requirement already satisfied: tqdm>4 in /home/ubuntu/myenv/lib/python3.10/site-packages (from openai) (4.67.1)\n",
      "Requirement already satisfied: httpx<1,>=0.23.0 in /home/ubuntu/myenv/lib/python3.10/site-packages (from openai) (0.28.1)\n",
      "Requirement already satisfied: distro<2,>=1.7.0 in /home/ubuntu/myenv/lib/python3.10/site-packages (from openai) (1.9.0)\n",
      "Requirement already satisfied: anyio<5,>=3.5.0 in /home/ubuntu/myenv/lib/python3.10/site-packages (from openai) (4.7.0)\n",
      "Requirement already satisfied: exceptiongroup>=1.0.2 in /home/ubuntu/myenv/lib/python3.10/site-packages (from anyio<5,>=3.5.0->openai) (1.2.2)\n",
      "Requirement already satisfied: idna>=2.8 in /home/ubuntu/myenv/lib/python3.10/site-packages (from anyio<5,>=3.5.0->openai) (3.10)\n",
      "Requirement already satisfied: httpcore==1.* in /home/ubuntu/myenv/lib/python3.10/site-packages (from httpx<1,>=0.23.0->openai) (1.0.7)\n",
      "Requirement already satisfied: certifi in /home/ubuntu/myenv/lib/python3.10/site-packages (from httpx<1,>=0.23.0->openai) (2024.12.14)\n",
      "Requirement already satisfied: h11<0.15,>=0.13 in /home/ubuntu/myenv/lib/python3.10/site-packages (from httpcore==1.*->httpx<1,>=0.23.0->openai) (0.14.0)\n",
      "Requirement already satisfied: pydantic-core==2.27.2 in /home/ubuntu/myenv/lib/python3.10/site-packages (from pydantic<3,>=1.9.0->openai) (2.27.2)\n",
      "Requirement already satisfied: annotated-types>=0.6.0 in /home/ubuntu/myenv/lib/python3.10/site-packages (from pydantic<3,>=1.9.0->openai) (0.7.0)\n",
      "Collecting dotenv\n",
      "  Downloading dotenv-0.0.5.tar.gz (2.4 kB)\n",
      "  Preparing metadata (setup.py) ... \u001b[?2error\n",
      "  \u001b[1;31merror\u001b[0m: \u001b[1msubprocess-exited-with-error\u001b[0m\n",
      "  \n",
      "  \u001b[31m×\u001b[0m \u001b[32mpython setup.py egg_info\u001b[0m did not run successfully.\n",
      "  \u001b[31m│\u001b[0m exit code: \u001b[1;36m1\u001b[0m\n",
      "  \u001b[31m╰─>\u001b[0m \u001b[31m[65 lines of output]\u001b[0m\n",
      "  \u001b[31m   \u001b[0m /home/ubuntu/myenv/lib/python3.10/site-packages/setuptools/installer.py:27: SetuptoolsDeprecationWarning: setuptools.installer is deprecated. Requirements should be satisfied by a PEP 517 installer.\n",
      "  \u001b[31m   \u001b[0m   warnings.warn(\n",
      "  \u001b[31m   \u001b[0m WARNING: The wheel package is not available.\n",
      "  \u001b[31m   \u001b[0m   error: subprocess-exited-with-error\n",
      "  \u001b[31m   \u001b[0m \n",
      "  \u001b[31m   \u001b[0m   × python setup.py egg_info did not run successfully.\n",
      "  \u001b[31m   \u001b[0m   │ exit code: 1\n",
      "  \u001b[31m   \u001b[0m   ╰─> [16 lines of output]\n",
      "  \u001b[31m   \u001b[0m       Traceback (most recent call last):\n",
      "  \u001b[31m   \u001b[0m         File \"<string>\", line 2, in <module>\n",
      "  \u001b[31m   \u001b[0m         File \"<pip-setuptools-caller>\", line 14, in <module>\n",
      "  \u001b[31m   \u001b[0m         File \"/tmp/pip-wheel-tch__nbi/distribute_18177637ecfd4bba8f844118c9e92bb5/setuptools/__init__.py\", line 2, in <module>\n",
      "  \u001b[31m   \u001b[0m           from setuptools.extension import Extension, Library\n",
      "  \u001b[31m   \u001b[0m         File \"/tmp/pip-wheel-tch__nbi/distribute_18177637ecfd4bba8f844118c9e92bb5/setuptools/extension.py\", line 5, in <module>\n",
      "  \u001b[31m   \u001b[0m           from setuptools.dist import _get_unpatched\n",
      "  \u001b[31m   \u001b[0m         File \"/tmp/pip-wheel-tch__nbi/distribute_18177637ecfd4bba8f844118c9e92bb5/setuptools/dist.py\", line 7, in <module>\n",
      "  \u001b[31m   \u001b[0m           from setuptools.command.install import install\n",
      "  \u001b[31m   \u001b[0m         File \"/tmp/pip-wheel-tch__nbi/distribute_18177637ecfd4bba8f844118c9e92bb5/setuptools/command/__init__.py\", line 8, in <module>\n",
      "  \u001b[31m   \u001b[0m           from setuptools.command import install_scripts\n",
      "  \u001b[31m   \u001b[0m         File \"/tmp/pip-wheel-tch__nbi/distribute_18177637ecfd4bba8f844118c9e92bb5/setuptools/command/install_scripts.py\", line 3, in <module>\n",
      "  \u001b[31m   \u001b[0m           from pkg_resources import Distribution, PathMetadata, ensure_directory\n",
      "  \u001b[31m   \u001b[0m         File \"/tmp/pip-wheel-tch__nbi/distribute_18177637ecfd4bba8f844118c9e92bb5/pkg_resources.py\", line 1518, in <module>\n",
      "  \u001b[31m   \u001b[0m           register_loader_type(importlib_bootstrap.SourceFileLoader, DefaultProvider)\n",
      "  \u001b[31m   \u001b[0m       AttributeError: module 'importlib._bootstrap' has no attribute 'SourceFileLoader'\n",
      "  \u001b[31m   \u001b[0m       [end of output]\n",
      "  \u001b[31m   \u001b[0m \n",
      "  \u001b[31m   \u001b[0m   note: This error originates from a subprocess, and is likely not a problem with pip.\n",
      "  \u001b[31m   \u001b[0m error: metadata-generation-failed\n",
      "  \u001b[31m   \u001b[0m \n",
      "  \u001b[31m   \u001b[0m × Encountered error while generating package metadata.\n",
      "  \u001b[31m   \u001b[0m ╰─> See above for output.\n",
      "  \u001b[31m   \u001b[0m \n",
      "  \u001b[31m   \u001b[0m note: This is an issue with the package mentioned above, not pip.\n",
      "  \u001b[31m   \u001b[0m hint: See above for details.\n",
      "  \u001b[31m   \u001b[0m Traceback (most recent call last):\n",
      "  \u001b[31m   \u001b[0m   File \"/home/ubuntu/myenv/lib/python3.10/site-packages/setuptools/installer.py\", line 82, in fetch_build_egg\n",
      "  \u001b[31m   \u001b[0m     subprocess.check_call(cmd)\n",
      "  \u001b[31m   \u001b[0m   File \"/usr/lib/python3.10/subprocess.py\", line 369, in check_call\n",
      "  \u001b[31m   \u001b[0m     raise CalledProcessError(retcode, cmd)\n",
      "  \u001b[31m   \u001b[0m subprocess.CalledProcessError: Command '['/home/ubuntu/myenv/bin/python3', '-m', 'pip', '--disable-pip-version-check', 'wheel', '--no-deps', '-w', '/tmp/tmp0rj1u_sl', '--quiet', 'distribute']' returned non-zero exit status 1.\n",
      "  \u001b[31m   \u001b[0m \n",
      "  \u001b[31m   \u001b[0m The above exception was the direct cause of the following exception:\n",
      "  \u001b[31m   \u001b[0m \n",
      "  \u001b[31m   \u001b[0m Traceback (most recent call last):\n",
      "  \u001b[31m   \u001b[0m   File \"<string>\", line 2, in <module>\n",
      "  \u001b[31m   \u001b[0m   File \"<pip-setuptools-caller>\", line 34, in <module>\n",
      "  \u001b[31m   \u001b[0m   File \"/tmp/pip-install-f3po718w/dotenv_1a1122bcc82d4ff4b8d07a635d372156/setup.py\", line 13, in <module>\n",
      "  \u001b[31m   \u001b[0m     setup(name='dotenv',\n",
      "  \u001b[31m   \u001b[0m   File \"/home/ubuntu/myenv/lib/python3.10/site-packages/setuptools/__init__.py\", line 152, in setup\n",
      "  \u001b[31m   \u001b[0m     _install_setup_requires(attrs)\n",
      "  \u001b[31m   \u001b[0m   File \"/home/ubuntu/myenv/lib/python3.10/site-packages/setuptools/__init__.py\", line 147, in _install_setup_requires\n",
      "  \u001b[31m   \u001b[0m     dist.fetch_build_eggs(dist.setup_requires)\n",
      "  \u001b[31m   \u001b[0m   File \"/home/ubuntu/myenv/lib/python3.10/site-packages/setuptools/dist.py\", line 812, in fetch_build_eggs\n",
      "  \u001b[31m   \u001b[0m     resolved_dists = pkg_resources.working_set.resolve(\n",
      "  \u001b[31m   \u001b[0m   File \"/home/ubuntu/myenv/lib/python3.10/site-packages/pkg_resources/__init__.py\", line 771, in resolve\n",
      "  \u001b[31m   \u001b[0m     dist = best[req.key] = env.best_match(\n",
      "  \u001b[31m   \u001b[0m   File \"/home/ubuntu/myenv/lib/python3.10/site-packages/pkg_resources/__init__.py\", line 1056, in best_match\n",
      "  \u001b[31m   \u001b[0m     return self.obtain(req, installer)\n",
      "  \u001b[31m   \u001b[0m   File \"/home/ubuntu/myenv/lib/python3.10/site-packages/pkg_resources/__init__.py\", line 1068, in obtain\n",
      "  \u001b[31m   \u001b[0m     return installer(requirement)\n",
      "  \u001b[31m   \u001b[0m   File \"/home/ubuntu/myenv/lib/python3.10/site-packages/setuptools/dist.py\", line 883, in fetch_build_egg\n",
      "  \u001b[31m   \u001b[0m     return fetch_build_egg(self, req)\n",
      "  \u001b[31m   \u001b[0m   File \"/home/ubuntu/myenv/lib/python3.10/site-packages/setuptools/installer.py\", line 84, in fetch_build_egg\n",
      "  \u001b[31m   \u001b[0m     raise DistutilsError(str(e)) from e\n",
      "  \u001b[31m   \u001b[0m distutils.errors.DistutilsError: Command '['/home/ubuntu/myenv/bin/python3', '-m', 'pip', '--disable-pip-version-check', 'wheel', '--no-deps', '-w', '/tmp/tmp0rj1u_sl', '--quiet', 'distribute']' returned non-zero exit status 1.\n",
      "  \u001b[31m   \u001b[0m \u001b[31m[end of output]\u001b[0m\n",
      "  \n",
      "  \u001b[1;35mnote\u001b[0m: This error originates from a subprocess, and is likely not a problem with pip.\n",
      "\u001b[1;31merror\u001b[0m: \u001b[1mmetadata-generation-failed\u001b[0m\n",
      "\n",
      "\u001b[31m×\u001b[0m Encountered error while generating package metadata.\n",
      "\u001b[31m╰─>\u001b[0m See above for output.\n",
      "\n",
      "\u001b[1;35mnote\u001b[0m: This is an issue with the package mentioned above, not pip.\n",
      "\u001b[1;36mhint\u001b[0m: See above for details.\n",
      "\u001b[?25h"
     ]
    }
   ],
   "source": [
    "!pip3 install openai"
   ]
  },
  {
   "cell_type": "code",
   "execution_count": 6,
   "id": "a4a8ffdb-6643-412b-90eb-114a040d73a1",
   "metadata": {},
   "outputs": [
    {
     "name": "stdout",
     "output_type": "stream",
     "text": [
      "Collecting python-dotenv\n",
      "  Using cached python_dotenv-1.0.1-py3-none-any.whl (19 kB)\n",
      "Installing collected packages: python-dotenv\n",
      "Successfully installed python-dotenv-1.0.1\n"
     ]
    }
   ],
   "source": [
    "!pip3 install python-dotenv"
   ]
  },
  {
   "cell_type": "code",
   "execution_count": 2,
   "id": "9e2cb4e6-e35d-4cc8-b7a1-6ce4c13048f4",
   "metadata": {},
   "outputs": [],
   "source": [
    "import openai\n",
    "import pandas as pd\n",
    "import os\n",
    "from dotenv import load_dotenv \n",
    "\n",
    "load_dotenv()  \n",
    "openai.api_key = os.getenv(\"OPENAI_API_KEY\")"
   ]
  },
  {
   "cell_type": "code",
   "execution_count": 3,
   "id": "e149c1cd-fa74-424a-82c1-2fc97fc46164",
   "metadata": {},
   "outputs": [],
   "source": [
    "# Function to generate a summary using GPT-4-turbo (the mini variant)\n",
    "def generate_summary(description):\n",
    "    try:\n",
    "        response = openai.ChatCompletion.create(\n",
    "            model=\"gpt-4o-mini\",  # Using GPT-4 mini (turbo variant)\n",
    "            messages=[\n",
    "                {\"role\": \"system\", \"content\": \"You are a helpful assistant that summarizes policy descriptions.\"},\n",
    "                {\"role\": \"user\", \"content\": f\"Summarize the following policy description: {description}\"}\n",
    "            ],\n",
    "            max_tokens=100,\n",
    "            temperature=0.7\n",
    "        )\n",
    "        return response['choices'][0]['message']['content'].strip()\n",
    "    except Exception as e:\n",
    "        print(f\"Error generating summary: {e}\")\n",
    "        return \"Error generating summary\""
   ]
  },
  {
   "cell_type": "code",
   "execution_count": 4,
   "id": "87ef6f9d-9a95-40e2-bd04-732ec7306b72",
   "metadata": {},
   "outputs": [
    {
     "data": {
      "text/html": [
       "<div>\n",
       "<style scoped>\n",
       "    .dataframe tbody tr th:only-of-type {\n",
       "        vertical-align: middle;\n",
       "    }\n",
       "\n",
       "    .dataframe tbody tr th {\n",
       "        vertical-align: top;\n",
       "    }\n",
       "\n",
       "    .dataframe thead th {\n",
       "        text-align: right;\n",
       "    }\n",
       "</style>\n",
       "<table border=\"1\" class=\"dataframe\">\n",
       "  <thead>\n",
       "    <tr style=\"text-align: right;\">\n",
       "      <th></th>\n",
       "      <th>country</th>\n",
       "      <th>policy_description</th>\n",
       "    </tr>\n",
       "  </thead>\n",
       "  <tbody>\n",
       "    <tr>\n",
       "      <th>0</th>\n",
       "      <td>United Arab Emirates</td>\n",
       "      <td>The National Hydrogen Strategy 2050 aims to su...</td>\n",
       "    </tr>\n",
       "    <tr>\n",
       "      <th>1</th>\n",
       "      <td>Kazakhstan</td>\n",
       "      <td>The code regulates activities which may have a...</td>\n",
       "    </tr>\n",
       "    <tr>\n",
       "      <th>2</th>\n",
       "      <td>France</td>\n",
       "      <td> Reduce energy intensity by 2% annually betwe...</td>\n",
       "    </tr>\n",
       "    <tr>\n",
       "      <th>3</th>\n",
       "      <td>Saudi Arabia</td>\n",
       "      <td>Saudi Arabia aims to increase the share of nat...</td>\n",
       "    </tr>\n",
       "  </tbody>\n",
       "</table>\n",
       "</div>"
      ],
      "text/plain": [
       "                country                                 policy_description\n",
       "0  United Arab Emirates  The National Hydrogen Strategy 2050 aims to su...\n",
       "1            Kazakhstan  The code regulates activities which may have a...\n",
       "2                France   Reduce energy intensity by 2% annually betwe...\n",
       "3          Saudi Arabia  Saudi Arabia aims to increase the share of nat..."
      ]
     },
     "execution_count": 4,
     "metadata": {},
     "output_type": "execute_result"
    }
   ],
   "source": [
    "# Load the dataset\n",
    "file_path = \"fine-tuned-summarization-model.csv\"  # Replace with the path to your dataset\n",
    "# Load the data from the CSV file\n",
    "df = pd.read_csv(file_path, encoding='latin1')\n",
    "# Print the column names to check if 'policy_description' is correct\n",
    "df.head()"
   ]
  },
  {
   "cell_type": "code",
   "execution_count": 5,
   "id": "9de33616-af3f-4686-9e92-af1a27df3eea",
   "metadata": {},
   "outputs": [
    {
     "name": "stdout",
     "output_type": "stream",
     "text": [
      "Processing row 1/4...\n",
      "Error generating summary: Incorrect API key provided: sk-proj-********************************************************************************************************************************************************9wwA. You can find your API key at https://platform.openai.com/account/api-keys.\n",
      "Processing row 2/4...\n",
      "Error generating summary: Incorrect API key provided: sk-proj-********************************************************************************************************************************************************9wwA. You can find your API key at https://platform.openai.com/account/api-keys.\n",
      "Processing row 3/4...\n",
      "Error generating summary: Incorrect API key provided: sk-proj-********************************************************************************************************************************************************9wwA. You can find your API key at https://platform.openai.com/account/api-keys.\n",
      "Processing row 4/4...\n",
      "Error generating summary: Incorrect API key provided: sk-proj-********************************************************************************************************************************************************9wwA. You can find your API key at https://platform.openai.com/account/api-keys.\n",
      "Dataset updated successfully and saved to summary.csv\n"
     ]
    }
   ],
   "source": [
    "# Check if 'policy_description' exists in the columns\n",
    "if 'policy_description' not in df.columns:\n",
    "    print(\"Error: 'policy_description' column not found!\")\n",
    "else:\n",
    "    # Append a new column 'Summary' to the dataset\n",
    "    summaries = []  # List to hold the summaries\n",
    "\n",
    "    for index, row in df.iterrows():\n",
    "        print(f\"Processing row {str(index + 1)}/{str(len(df))}...\")\n",
    "        summary = generate_summary(row['policy_description'])\n",
    "        summaries.append(summary)  # Add summary to the list\n",
    "\n",
    "    # Add the new 'Summary' column to the DataFrame\n",
    "    df['Summary'] = summaries\n",
    "\n",
    "    # Define a new file path for the dataset with the summary column\n",
    "    new_file_path = \"summary.csv\"\n",
    "\n",
    "    # Save the updated dataset to the new file\n",
    "    df.to_csv(new_file_path, index=False, sep=\",\")  # Save as CSV with a comma delimiter\n",
    "    print(f\"Dataset updated successfully and saved to {new_file_path}\")\n"
   ]
  },
  {
   "cell_type": "code",
   "execution_count": 14,
   "id": "ff5060cc-0de2-4423-b5c6-331528240cd8",
   "metadata": {},
   "outputs": [
    {
     "name": "stdout",
     "output_type": "stream",
     "text": [
      "Collecting openai==0.28\n",
      "  Using cached openai-0.28.0-py3-none-any.whl (76 kB)\n",
      "Requirement already satisfied: aiohttp in /home/ubuntu/myenv/lib/python3.10/site-packages (from openai==0.28) (3.11.11)\n",
      "Requirement already satisfied: tqdm in /home/ubuntu/myenv/lib/python3.10/site-packages (from openai==0.28) (4.67.1)\n",
      "Requirement already satisfied: requests>=2.20 in /home/ubuntu/myenv/lib/python3.10/site-packages (from openai==0.28) (2.32.3)\n",
      "Requirement already satisfied: idna<4,>=2.5 in /home/ubuntu/myenv/lib/python3.10/site-packages (from requests>=2.20->openai==0.28) (3.10)\n",
      "Requirement already satisfied: certifi>=2017.4.17 in /home/ubuntu/myenv/lib/python3.10/site-packages (from requests>=2.20->openai==0.28) (2024.12.14)\n",
      "Requirement already satisfied: charset-normalizer<4,>=2 in /home/ubuntu/myenv/lib/python3.10/site-packages (from requests>=2.20->openai==0.28) (3.4.0)\n",
      "Requirement already satisfied: urllib3<3,>=1.21.1 in /home/ubuntu/myenv/lib/python3.10/site-packages (from requests>=2.20->openai==0.28) (2.2.3)\n",
      "Requirement already satisfied: propcache>=0.2.0 in /home/ubuntu/myenv/lib/python3.10/site-packages (from aiohttp->openai==0.28) (0.2.1)\n",
      "Requirement already satisfied: yarl<2.0,>=1.17.0 in /home/ubuntu/myenv/lib/python3.10/site-packages (from aiohttp->openai==0.28) (1.18.3)\n",
      "Requirement already satisfied: attrs>=17.3.0 in /home/ubuntu/myenv/lib/python3.10/site-packages (from aiohttp->openai==0.28) (24.3.0)\n",
      "Requirement already satisfied: aiosignal>=1.1.2 in /home/ubuntu/myenv/lib/python3.10/site-packages (from aiohttp->openai==0.28) (1.3.2)\n",
      "Requirement already satisfied: frozenlist>=1.1.1 in /home/ubuntu/myenv/lib/python3.10/site-packages (from aiohttp->openai==0.28) (1.5.0)\n",
      "Requirement already satisfied: async-timeout<6.0,>=4.0 in /home/ubuntu/myenv/lib/python3.10/site-packages (from aiohttp->openai==0.28) (5.0.1)\n",
      "Requirement already satisfied: multidict<7.0,>=4.5 in /home/ubuntu/myenv/lib/python3.10/site-packages (from aiohttp->openai==0.28) (6.1.0)\n",
      "Requirement already satisfied: aiohappyeyeballs>=2.3.0 in /home/ubuntu/myenv/lib/python3.10/site-packages (from aiohttp->openai==0.28) (2.4.4)\n",
      "Requirement already satisfied: typing-extensions>=4.1.0 in /home/ubuntu/myenv/lib/python3.10/site-packages (from multidict<7.0,>=4.5->aiohttp->openai==0.28) (4.12.2)\n",
      "Installing collected packages: openai\n",
      "  Attempting uninstall: openai\n",
      "    Found existing installation: openai 1.58.1\n",
      "    Uninstalling openai-1.58.1:\n",
      "      Successfully uninstalled openai-1.58.1\n",
      "Successfully installed openai-0.28.0\n",
      "Note: you may need to restart the kernel to use updated packages.\n"
     ]
    }
   ],
   "source": [
    "pip install openai==0.28"
   ]
  },
  {
   "cell_type": "code",
   "execution_count": 7,
   "id": "a0551533-fc54-4d70-b697-99ba3c7d2e6c",
   "metadata": {},
   "outputs": [
    {
     "name": "stdout",
     "output_type": "stream",
     "text": [
      "Error:  Incorrect API key provided: sk-proj-********************************************************************************************************************************************************9wwA. You can find your API key at https://platform.openai.com/account/api-keys.\n"
     ]
    }
   ],
   "source": [
    "import openai\n",
    "import os\n",
    "from dotenv import load_dotenv \n",
    "\n",
    "# Load your OpenAI API key from the environment variables\n",
    "load_dotenv()\n",
    "openai.api_key = os.getenv(\"OPENAI_API_KEY\")  # Make sure your .env contains the API key\n",
    "\n",
    "# Test OpenAI API by making a simple completion request\n",
    "def test_openai_key():\n",
    "    try:\n",
    "        # Make a simple prompt to test the connection to OpenAI API\n",
    "        response = openai.Completion.create(\n",
    "            model=\"text-davinci-003\",  # You can change the model if necessary\n",
    "            prompt=\"Hello, world! How are you today?\",\n",
    "            max_tokens=50\n",
    "        )\n",
    "        print(\"Test successful!\")\n",
    "        print(\"Response: \", response.choices[0].text.strip())\n",
    "    except Exception as e:\n",
    "        print(\"Error: \", e)\n",
    "\n",
    "# Run the test\n",
    "test_openai_key()\n"
   ]
  },
  {
   "cell_type": "code",
   "execution_count": null,
   "id": "12e56c05-76d0-4579-b950-88e97eed07ac",
   "metadata": {},
   "outputs": [],
   "source": []
  }
 ],
 "metadata": {
  "kernelspec": {
   "display_name": "Python 3 (ipykernel)",
   "language": "python",
   "name": "python3"
  },
  "language_info": {
   "codemirror_mode": {
    "name": "ipython",
    "version": 3
   },
   "file_extension": ".py",
   "mimetype": "text/x-python",
   "name": "python",
   "nbconvert_exporter": "python",
   "pygments_lexer": "ipython3",
   "version": "3.10.12"
  }
 },
 "nbformat": 4,
 "nbformat_minor": 5
}
